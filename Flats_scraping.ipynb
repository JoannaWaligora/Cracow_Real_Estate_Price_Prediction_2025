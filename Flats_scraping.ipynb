{
 "cells": [
  {
   "cell_type": "code",
   "execution_count": 38,
   "id": "2c0f949a-4ccf-40ca-bd2e-8b1e9f030e10",
   "metadata": {},
   "outputs": [],
   "source": [
    "import pandas as pd\n",
    "from bs4 import BeautifulSoup\n",
    "import requests"
   ]
  },
  {
   "cell_type": "markdown",
   "id": "917d27be-2701-4115-af87-df59ecddfe9a",
   "metadata": {},
   "source": [
    "## Scraping data from the portal gratka.pl"
   ]
  },
  {
   "cell_type": "markdown",
   "id": "f054a503-edc1-4f54-af45-f987f4b2d14d",
   "metadata": {},
   "source": [
    "#### Creating a list of all websites with ads (gratka.pl has 200 websites with ads for apartments in Krakow)."
   ]
  },
  {
   "cell_type": "code",
   "execution_count": 19,
   "id": "f32024e8-5479-48eb-8a4d-dd93e8a2f00d",
   "metadata": {},
   "outputs": [],
   "source": [
    "list_page = ['https://gratka.pl/nieruchomosci/mieszkania/krakow?location%5Bmap%5D=1&utm_source=bing&utm_medium=cpc&utm_campaign=%255B%2BSearch%2B%255D%2BLead%2Bsprzeda%25C5%25BC%2B%257C%2BTop%2BMiasta&utm_adgroup=m_Krak%25C3%25B3w&utm_term=sprzeda%25C5%25BC%2Bapartamenty%2Bkrak%25C3%25B3w&utm_placement=o&msclkid=70558f947fed1966fb93e87753fbd916&utm_content=m_Krak%25C3%25B3w']\n",
    "for i in range(2,201):\n",
    "    list_page.append(f'https://gratka.pl/nieruchomosci/mieszkania/krakow?page={i}&location[map]=1&utm_source=bing&utm_medium=cpc&utm_campaign=[+Search+]+Lead+sprzeda%C5%BC+|+Top+Miasta&utm_adgroup=m_Krak%C3%B3w&utm_term=sprzeda%C5%BC+apartamenty+krak%C3%B3w&utm_placement=o&msclkid=70558f947fed1966fb93e87753fbd916&utm_content=m_Krak%C3%B3w')"
   ]
  },
  {
   "cell_type": "code",
   "execution_count": 21,
   "id": "92dad2bb-3db8-43f5-9c63-727de04a69f1",
   "metadata": {},
   "outputs": [],
   "source": [
    "url_advertisements = []\n",
    "for page_url in list_page:\n",
    "    page = requests.get(page_url)\n",
    "    parser = BeautifulSoup(page.content, 'html.parser')\n",
    "\n",
    "    for a in parser.find_all('a', href=True):\n",
    "        if a['href'][0:32] == '/nieruchomosci/mieszkanie-krakow':\n",
    "            url_advertisements.append(a['href'])"
   ]
  },
  {
   "cell_type": "code",
   "execution_count": 24,
   "id": "27494680-436b-424e-ba8e-8cf67c231d38",
   "metadata": {},
   "outputs": [],
   "source": [
    "url_advertisements_result = list(set(url_advertisements)) \n",
    "#links to websites with advertisements are duplicated (they appear more than once), so we remove the duplicates by saving the list to a collection"
   ]
  },
  {
   "cell_type": "markdown",
   "id": "536b3b59-6d73-41d4-90fc-c11fab2928e0",
   "metadata": {},
   "source": [
    "#### We extract individual data into lists to then create a data frame from it."
   ]
  },
  {
   "cell_type": "code",
   "execution_count": 27,
   "id": "a6d5ed43-9dfb-4a85-8941-d2f8898e950f",
   "metadata": {},
   "outputs": [],
   "source": [
    "price = []\n",
    "rooms = []\n",
    "district = []\n",
    "district_2 = []\n",
    "area = []\n",
    "floor = []\n",
    "levels = []\n",
    "bathrooms = []\n",
    "bathroom_with_toilet = []\n",
    "market = []\n",
    "type_of_contract = []\n",
    "building_type = []\n",
    "building_material = []\n",
    "year_built = []\n",
    "heating = []\n",
    "kitchen_type = []\n",
    "balcony = []\n",
    "balcony_area = []\n",
    "terrace = []\n",
    "loggia = []\n",
    "garden = []\n",
    "windows = []\n",
    "property_condition = []\n",
    "form_of_ownership = []\n",
    "advantages = []\n",
    "link = []\n",
    "\n",
    "for url in url_advertisements_result:\n",
    "    page = requests.get('https://gratka.pl' + url)\n",
    "    parser = BeautifulSoup(page.content, 'html.parser')\n",
    "\n",
    "    price_ = ''\n",
    "    rooms_ = ''\n",
    "    district_ = ''\n",
    "    district_2_ = ''\n",
    "    area_ = ''\n",
    "    floor_ = ''\n",
    "    levels_ = ''\n",
    "    bathrooms_ = ''\n",
    "    bathroom_with_toilet_ = ''\n",
    "    market_ = ''\n",
    "    type_of_contract_ = ''\n",
    "    building_type_ = ''\n",
    "    building_material_ = ''\n",
    "    year_built_ = ''\n",
    "    heating_ = ''\n",
    "    kitchen_type_ = ''\n",
    "    balcony_ = ''\n",
    "    balcony_area_ = ''\n",
    "    terrace_ = ''\n",
    "    loggia_ = ''\n",
    "    garden_ = ''\n",
    "    windows_ = ''\n",
    "    property_condition_ = ''\n",
    "    form_of_ownership_ = ''\n",
    "    advantages_ = ''\n",
    "\n",
    "    try:\n",
    "        price_ = parser.select('.maMBkV')[0].string[0:-3]\n",
    "    except:\n",
    "        pass\n",
    "    try:\n",
    "        rooms_ = parser.select('.urcZHx')[0].getText()[3:]\n",
    "    except:\n",
    "        pass\n",
    "    try:\n",
    "        floor_ = parser.select('.urcZHx')[2].getText()[3:]\n",
    "    except:\n",
    "        pass\n",
    "    try:\n",
    "        district_ = parser.select('.WgU3CR[data-v-2b307dca]')[1].string\n",
    "    except:\n",
    "        pass\n",
    "    try:\n",
    "        district_2_ = parser.select('.WgU3CR[data-v-2b307dca]')[2].string\n",
    "    except:\n",
    "        pass\n",
    "    try:\n",
    "        advantages_raw = parser.select('._9-I1E2[data-v-0e98df09]')\n",
    "        advantages_ = [i.string for i in advantages_raw]\n",
    "    except:\n",
    "        pass\n",
    "        \n",
    "    try:\n",
    "        list_features = parser.select('.YSTCwm[data-v-96fcfdf3]')\n",
    "        for i in range(len(list_features)):\n",
    "            if list_features[i].string == 'Pow. całkowita':\n",
    "                area_ = list_features[i+1].string[:-3]\n",
    "            if list_features[i].string == 'Liczba poziomów mieszkania':\n",
    "                levels_ = list_features[i+1].string\n",
    "            if list_features[i].string == 'Liczba łazienek':\n",
    "                bathrooms_ = list_features[i+1].string\n",
    "            if list_features[i].string == 'łazienka razem z WC':\n",
    "                bathroom_with_toilet_ = list_features[i+1].string\n",
    "            if list_features[i].string == 'Rynek':\n",
    "                market_ = list_features[i+1].string\n",
    "            if list_features[i].string == 'Rodzaj umowy':\n",
    "                type_of_contract_ = list_features[i+1].string\n",
    "            if list_features[i].string == 'Typ budynku':\n",
    "                building_type_ = list_features[i+1].string\n",
    "            if list_features[i].string == 'Materiał budowlany':\n",
    "                building_material_ = list_features[i+1].string\n",
    "            if list_features[i].string == 'Rok budowy':\n",
    "                year_built_ = list_features[i+1].string\n",
    "            if list_features[i].string == 'Ogrzewanie':\n",
    "                heating_ = list_features[i+1].string\n",
    "            if list_features[i].string == 'Typ kuchni':\n",
    "                kitchen_type_ = list_features[i+1].string\n",
    "            if list_features[i].string == 'Balkon':\n",
    "                balcony_ = list_features[i+1].string\n",
    "            if list_features[i].string == 'Pow. balkonu':\n",
    "                balcony_area_ = list_features[i+1].string\n",
    "            if list_features[i].string == 'Taras':\n",
    "                terrace_ = list_features[i+1].string\n",
    "            if list_features[i].string == 'Loggia':\n",
    "                loggia_ = list_features[i+1].string\n",
    "            if list_features[i].string == 'Pow. ogródka':\n",
    "                garden_ = list_features[i+1].string\n",
    "            if list_features[i].string == 'Stolarka okienna':\n",
    "                windows_ = list_features[i+1].string\n",
    "            if list_features[i].string == 'Stan nieruchomości':\n",
    "                property_condition_ = list_features[i+1].string\n",
    "            if list_features[i].string == 'Forma własności':\n",
    "                form_of_ownership_ = list_features[i+1].string\n",
    "    except:\n",
    "        pass\n",
    "         \n",
    "    price.append(price_)\n",
    "    rooms.append(rooms_)\n",
    "    area.append(area_)\n",
    "    floor.append(floor_)\n",
    "    levels.append(levels_)\n",
    "    bathrooms.append(bathrooms_)\n",
    "    bathroom_with_toilet.append(bathroom_with_toilet_)\n",
    "    market.append(market_)\n",
    "    type_of_contract.append(type_of_contract_)\n",
    "    building_type.append(building_type_)\n",
    "    building_material.append(building_material_)\n",
    "    year_built.append(year_built_)\n",
    "    heating.append(heating_)\n",
    "    district.append(district_)\n",
    "    district_2.append(district_2_)   \n",
    "    kitchen_type.append(kitchen_type_)\n",
    "    balcony.append(balcony_)\n",
    "    balcony_area.append(balcony_area_)\n",
    "    terrace.append(terrace_)\n",
    "    loggia.append(loggia_)\n",
    "    garden.append(garden_)\n",
    "    windows.append(windows_)\n",
    "    property_condition.append(property_condition_)\n",
    "    form_of_ownership.append(form_of_ownership_)\n",
    "    advantages.append(advantages_)\n",
    "    link.append('https://gratka.pl' + url)"
   ]
  },
  {
   "cell_type": "markdown",
   "id": "4a24cb78-f0aa-4cb9-9ae7-314e228b026f",
   "metadata": {},
   "source": [
    "#### We create a data frame with all the collected features"
   ]
  },
  {
   "cell_type": "code",
   "execution_count": 28,
   "id": "304f071b-3f8d-4789-8a15-a8854205185f",
   "metadata": {
    "scrolled": true
   },
   "outputs": [],
   "source": [
    "df = pd.DataFrame(\n",
    "    {\"price\": price,\n",
    "     \"district\": district,\n",
    "     \"district_2\": district_2,\n",
    "     \"rooms\": rooms,\n",
    "     \"area\": area,\n",
    "     \"floor\": floor,\n",
    "     \"levels\": levels,\n",
    "     \"bathrooms\": bathrooms,\n",
    "     \"bathroom_with_toilet\": bathroom_with_toilet,\n",
    "     \"market\": market,\n",
    "     \"type_of_contract\": type_of_contract,\n",
    "     \"building_type\": building_type,\n",
    "     \"building_material\": building_material,\n",
    "     \"year_built\": year_built,\n",
    "     \"heating\": heating,\n",
    "     \"kitchen_type\": kitchen_type,\n",
    "     \"balcony\": balcony,\n",
    "     \"balcony_area\": balcony_area,\n",
    "     \"terrace\": terrace,\n",
    "     \"loggia\": loggia,\n",
    "     \"garden\": garden,\n",
    "     \"windows\": windows,\n",
    "     \"property_condition\": property_condition,\n",
    "     \"form_of_ownership\": form_of_ownership,\n",
    "     \"advantages\": advantages,\n",
    "     \"link\": link \n",
    "    }\n",
    ")"
   ]
  },
  {
   "cell_type": "code",
   "execution_count": 29,
   "id": "a25faee4-b15b-4090-8a64-6e15e3de2cee",
   "metadata": {},
   "outputs": [],
   "source": [
    "pd.set_option(\"display.max_colwidth\", None)"
   ]
  },
  {
   "cell_type": "markdown",
   "id": "1f883bae-5a40-4ba2-a897-a50bed7eced7",
   "metadata": {},
   "source": [
    "#### Saving a data frame with all apartment features to CSV"
   ]
  },
  {
   "cell_type": "code",
   "execution_count": 34,
   "id": "f21dd674-8e8d-4ee0-803b-0386558fbd9b",
   "metadata": {},
   "outputs": [],
   "source": [
    "df.to_csv(\"flats_set1.csv\", index=False)"
   ]
  }
 ],
 "metadata": {
  "kernelspec": {
   "display_name": "Python 3 (ipykernel)",
   "language": "python",
   "name": "python3"
  },
  "language_info": {
   "codemirror_mode": {
    "name": "ipython",
    "version": 3
   },
   "file_extension": ".py",
   "mimetype": "text/x-python",
   "name": "python",
   "nbconvert_exporter": "python",
   "pygments_lexer": "ipython3",
   "version": "3.12.3"
  }
 },
 "nbformat": 4,
 "nbformat_minor": 5
}
